{
  "nbformat": 4,
  "nbformat_minor": 0,
  "metadata": {
    "colab": {
      "name": "data_analytics_12april.ipynb",
      "provenance": [],
      "include_colab_link": true
    },
    "kernelspec": {
      "name": "python3",
      "display_name": "Python 3"
    },
    "language_info": {
      "name": "python"
    }
  },
  "cells": [
    {
      "cell_type": "markdown",
      "metadata": {
        "id": "view-in-github",
        "colab_type": "text"
      },
      "source": [
        "<a href=\"https://colab.research.google.com/github/jvo012/ads-500b-project/blob/test-1/data_analytics_12april.ipynb\" target=\"_parent\"><img src=\"https://colab.research.google.com/assets/colab-badge.svg\" alt=\"Open In Colab\"/></a>"
      ]
    },
    {
      "cell_type": "code",
      "execution_count": 22,
      "metadata": {
        "id": "4qyGIUtcJLv3"
      },
      "outputs": [],
      "source": [
        "# Import packages\n",
        "import numpy as np\n",
        "import pandas as pd\n",
        "import matplotlib as mpl\n",
        "import matplotlib.pyplot as plt\n",
        "import seaborn as sns"
      ]
    },
    {
      "cell_type": "markdown",
      "source": [
        "Part 1: Data Importing and Pre-processing"
      ],
      "metadata": {
        "id": "HXd3mdpMtbDD"
      }
    },
    {
      "cell_type": "code",
      "source": [
        "# 1.1 Import dataset and describe characteristics such as dimensions, data types, file types, and import methods used\n",
        "\n",
        "df = pd.read_csv('https://raw.githubusercontent.com/jvo012/ads-500b-project/main/house_sales.csv')"
      ],
      "metadata": {
        "id": "GkxeAJ4Xt4gm"
      },
      "execution_count": 23,
      "outputs": []
    },
    {
      "cell_type": "code",
      "source": [
        "# Identify the data types of key variables\n",
        "df.info()"
      ],
      "metadata": {
        "colab": {
          "base_uri": "https://localhost:8080/"
        },
        "id": "cAsBltejJaYU",
        "outputId": "340d904a-e917-4ec2-c273-a564f40707a0"
      },
      "execution_count": 24,
      "outputs": [
        {
          "output_type": "stream",
          "name": "stdout",
          "text": [
            "<class 'pandas.core.frame.DataFrame'>\n",
            "RangeIndex: 21613 entries, 0 to 21612\n",
            "Data columns (total 21 columns):\n",
            " #   Column         Non-Null Count  Dtype  \n",
            "---  ------         --------------  -----  \n",
            " 0   id             21613 non-null  int64  \n",
            " 1   date           21613 non-null  object \n",
            " 2   price          21613 non-null  float64\n",
            " 3   bedrooms       20479 non-null  float64\n",
            " 4   bathrooms      20545 non-null  float64\n",
            " 5   sqft_living    20503 non-null  float64\n",
            " 6   sqft_lot       20569 non-null  float64\n",
            " 7   floors         21613 non-null  float64\n",
            " 8   waterfront     21613 non-null  int64  \n",
            " 9   view           21613 non-null  int64  \n",
            " 10  condition      21613 non-null  int64  \n",
            " 11  grade          21613 non-null  int64  \n",
            " 12  sqft_above     21613 non-null  int64  \n",
            " 13  sqft_basement  21613 non-null  int64  \n",
            " 14  yr_built       21613 non-null  int64  \n",
            " 15  yr_renovated   21613 non-null  int64  \n",
            " 16  zipcode        21613 non-null  int64  \n",
            " 17  lat            21613 non-null  float64\n",
            " 18  long           21613 non-null  float64\n",
            " 19  sqft_living15  21613 non-null  int64  \n",
            " 20  sqft_lot15     21613 non-null  int64  \n",
            "dtypes: float64(8), int64(12), object(1)\n",
            "memory usage: 3.5+ MB\n"
          ]
        }
      ]
    },
    {
      "cell_type": "code",
      "source": [
        "# 1.2 Clean, wrangle, and handle missing data\n",
        "# 1.3 Transform data appropriately using techniques such as aggregation, normalization, and feature construction\n",
        "# 1.4 Reduce redundant data and perform need based discretization\n",
        "\n",
        "# Dropped \"ID\", \"long\", and \"lat\" columns\n",
        "# These columns are irrelevant values that are too specific and do not fit the requirements needed for our analysis on the house market.\n",
        "df.drop([\"id\",\"long\",\"lat\"], axis=1, inplace = True)\n",
        "\n",
        "# Column \"yr_renovated\" converted to binary values (0=No, 1=Yes)\n",
        "# The year of renovation is an irrelevant observation. Instead, homes that were renovated have the value 1 (True), unrenovated homes kept the value 0 (False) to observe if a relationship exists with renovations and the housing market.\n",
        "df['yr_renovated'] = (df['yr_renovated'] > 0).astype(bool)\n",
        "df['sqft_basement'] = (df['sqft_basement'] > 0).astype(bool)\n",
        "\n",
        "# Bedrooms exceeding number 6 replaced with 6\n",
        "# Eliminated outliers by replacing values exceeding 6.\n",
        "df['bedrooms'] = np.where(df['bedrooms'] > 6, 6, df['bedrooms'])\n",
        "\n",
        "# Converted data type to date_time\n",
        "# Changed the data type in order to use for further analysis.\n",
        "df['date'] = pd.to_datetime(df['date'], format='%Y%m%d %H:%M:%S')\n",
        "\n",
        "# All values in \"bathrooms\" and \"floors\" rounded to whole numbers for consistency.\n",
        "df['bathrooms'] = df['bathrooms'].round()\n",
        "df['floors'] = df['floors'].round()"
      ],
      "metadata": {
        "id": "JsRwnx8BRS31"
      },
      "execution_count": 25,
      "outputs": []
    },
    {
      "cell_type": "code",
      "source": [
        "# Verify columns do not contain \"0\" value\n",
        "print(\"Price 0 values: \", '0' in df.price.values)\n",
        "print(\"Bathroom 0 values: \", '0' in df.bathrooms.values)\n",
        "print(\"Bedroom 0 values: \", '0' in df.bedrooms.values)\n",
        "print(\"Sqft_living 0 values: \", '0' in df.sqft_living.values)\n",
        "print(\"Sqft_lot 0 values: \", '0' in df.sqft_lot.values)\n",
        "print(\"Floors 0 values: \", '0' in df.floors.values)"
      ],
      "metadata": {
        "colab": {
          "base_uri": "https://localhost:8080/"
        },
        "id": "lWHChaaDRt3h",
        "outputId": "69851689-d8e0-4b37-b641-406227b0708f"
      },
      "execution_count": 26,
      "outputs": [
        {
          "output_type": "stream",
          "name": "stdout",
          "text": [
            "Price 0 values:  False\n",
            "Bathroom 0 values:  False\n",
            "Bedroom 0 values:  False\n",
            "Sqft_living 0 values:  False\n",
            "Sqft_lot 0 values:  False\n",
            "Floors 0 values:  False\n"
          ]
        },
        {
          "output_type": "stream",
          "name": "stderr",
          "text": [
            "/usr/local/lib/python3.7/dist-packages/ipykernel_launcher.py:2: FutureWarning: elementwise comparison failed; returning scalar instead, but in the future will perform elementwise comparison\n",
            "  \n",
            "/usr/local/lib/python3.7/dist-packages/ipykernel_launcher.py:3: FutureWarning: elementwise comparison failed; returning scalar instead, but in the future will perform elementwise comparison\n",
            "  This is separate from the ipykernel package so we can avoid doing imports until\n",
            "/usr/local/lib/python3.7/dist-packages/ipykernel_launcher.py:4: FutureWarning: elementwise comparison failed; returning scalar instead, but in the future will perform elementwise comparison\n",
            "  after removing the cwd from sys.path.\n",
            "/usr/local/lib/python3.7/dist-packages/ipykernel_launcher.py:5: FutureWarning: elementwise comparison failed; returning scalar instead, but in the future will perform elementwise comparison\n",
            "  \"\"\"\n",
            "/usr/local/lib/python3.7/dist-packages/ipykernel_launcher.py:6: FutureWarning: elementwise comparison failed; returning scalar instead, but in the future will perform elementwise comparison\n",
            "  \n",
            "/usr/local/lib/python3.7/dist-packages/ipykernel_launcher.py:7: FutureWarning: elementwise comparison failed; returning scalar instead, but in the future will perform elementwise comparison\n",
            "  import sys\n"
          ]
        }
      ]
    },
    {
      "cell_type": "code",
      "source": [
        "# Replace missing bedroom and bathroom count by the mean\n",
        "df['bedrooms'].replace(np.nan, df['bedrooms'].mean(), inplace=True)\n",
        "df['bathrooms'].replace(np.nan, df['bathrooms'].mean(), inplace=True)"
      ],
      "metadata": {
        "id": "wXHFQBrdRzqb"
      },
      "execution_count": 27,
      "outputs": []
    },
    {
      "cell_type": "code",
      "source": [
        "# Display column unique count to check for outliers\n",
        "print(\"Bedroom unique count:\", df.bedrooms.unique())\n",
        "print(\"Bathrooms unique count:\", df.bathrooms.unique())\n",
        "print(\"Floors unique count:\", df.floors.unique())\n",
        "print(\"Waterfront unique count:\", df.waterfront.unique())\n",
        "print(\"View unique count:\", df.view.unique())\n",
        "print(\"Condition unique count:\", df.condition.unique())\n",
        "print(\"Grade unique count:\", df.grade.unique())"
      ],
      "metadata": {
        "colab": {
          "base_uri": "https://localhost:8080/"
        },
        "id": "ZbuwFvv5R1-r",
        "outputId": "853cbc41-8fa4-4eb9-a0a0-227c0ac5e8f6"
      },
      "execution_count": 28,
      "outputs": [
        {
          "output_type": "stream",
          "name": "stdout",
          "text": [
            "Bedroom unique count: [3.         2.         4.         5.         3.36735192 1.\n",
            " 6.         0.        ]\n",
            "Bathrooms unique count: [1.         2.         3.         4.         2.05753225 5.\n",
            " 0.         6.         8.         7.        ]\n",
            "Floors unique count: [1. 2. 3. 4.]\n",
            "Waterfront unique count: [0 1]\n",
            "View unique count: [0 3 4 2 1]\n",
            "Condition unique count: [3 5 4 1 2]\n",
            "Grade unique count: [ 7  6  8 11  9  5 10 12  4  3 13  1]\n"
          ]
        }
      ]
    },
    {
      "cell_type": "code",
      "source": [
        "# Mode of \"view\" column\n",
        "print(\"View mode: \", df[\"view\"].mode())\n",
        "\n",
        "# Replace all \"view\" column values greater than 1 with the mode, \"0\"\n",
        "df['view'].values[df['view'] > 1] = 0\n",
        "\n",
        "# Confirm \"view\" unique count to confirm command above worked and check for remaining outliers\n",
        "print(\"View unique count:\", df.view.unique())"
      ],
      "metadata": {
        "colab": {
          "base_uri": "https://localhost:8080/"
        },
        "id": "Px1102svR4os",
        "outputId": "e01be5b8-c416-49c2-eddf-edaeb0d3a3e0"
      },
      "execution_count": 29,
      "outputs": [
        {
          "output_type": "stream",
          "name": "stdout",
          "text": [
            "View mode:  0    0\n",
            "dtype: int64\n",
            "View unique count: [0 1]\n"
          ]
        }
      ]
    },
    {
      "cell_type": "code",
      "source": [
        "# Determine the index corresponding to the max value of \"bedrooms\"\n",
        "x = df['bedrooms'].idxmax()\n",
        "\n",
        "# Display \"sqft_lot\" at max value of bedrooms\n",
        "print(\"Sqft_lot at max value of bedrooms: \", df.loc[x, 'sqft_living'])\n",
        "\n",
        "# 33 bedroom count highly unlikely given the corresponding \"sqft_living\" value; likely data entry error\n",
        "# Replace \"33\" bedroom column count by \"3\"\n",
        "# df[\"bedrooms\"].replace({\"33\": \"3\"}, inplace=True)\n",
        "df['bedrooms'] = df['bedrooms'].replace(['33'], '3')\n",
        "\n",
        "# Confirm \"bedroom\" unique count to confirm command above worked and check for remaining outliers\n",
        "print(\"Bedroom unique count:\", df.bedrooms.unique())"
      ],
      "metadata": {
        "colab": {
          "base_uri": "https://localhost:8080/"
        },
        "id": "IvxdVKmwR7Ho",
        "outputId": "13f48f40-12a3-4bac-876a-fe60a8c6c413"
      },
      "execution_count": 30,
      "outputs": [
        {
          "output_type": "stream",
          "name": "stdout",
          "text": [
            "Sqft_lot at max value of bedrooms:  2300.0\n",
            "Bedroom unique count: [3.         2.         4.         5.         3.36735192 1.\n",
            " 6.         0.        ]\n"
          ]
        }
      ]
    },
    {
      "cell_type": "markdown",
      "source": [
        "Part 2: Data Analysis and Visualization"
      ],
      "metadata": {
        "id": "FSYdmpaptSu6"
      }
    },
    {
      "cell_type": "code",
      "source": [
        "df.head()\n",
        "# 2.1 Identify categorical, ordinal, and numerical variables within data\n",
        "\n",
        "# Categorical data: Zipcode\n",
        "# Ordinal data: condition, grade\n",
        "# Numerical data: Price, Bedrooms, Bathroom, sqft_living, sqft_lot, sqft_above, floors, yr_built, sqft_living15, sqft_lot15\n",
        "# Dates are not categorical, ordinal, nor numerical\n",
        "# Waterfront, view, sqft_basement, yr_renovated are boolean"
      ],
      "metadata": {
        "colab": {
          "base_uri": "https://localhost:8080/",
          "height": 357
        },
        "id": "RN_AGFjavHRR",
        "outputId": "2f012bec-687f-4ac7-e0ba-d3f36592edd4"
      },
      "execution_count": 31,
      "outputs": [
        {
          "output_type": "execute_result",
          "data": {
            "text/plain": [
              "        date     price  bedrooms  bathrooms  sqft_living  sqft_lot  floors  \\\n",
              "0 2014-10-13  221900.0       3.0        1.0       1180.0    5650.0     1.0   \n",
              "1 2014-12-09  538000.0       3.0        2.0       2570.0    7242.0     2.0   \n",
              "2 2015-02-25  180000.0       2.0        1.0        770.0   10000.0     1.0   \n",
              "3 2014-12-09  604000.0       4.0        3.0       1960.0    5000.0     1.0   \n",
              "4 2015-02-18  510000.0       3.0        2.0       1680.0    8080.0     1.0   \n",
              "\n",
              "   waterfront  view  condition  grade  sqft_above  sqft_basement  yr_built  \\\n",
              "0           0     0          3      7        1180          False      1955   \n",
              "1           0     0          3      7        2170           True      1951   \n",
              "2           0     0          3      6         770          False      1933   \n",
              "3           0     0          5      7        1050           True      1965   \n",
              "4           0     0          3      8        1680          False      1987   \n",
              "\n",
              "   yr_renovated  zipcode  sqft_living15  sqft_lot15  \n",
              "0         False    98178           1340        5650  \n",
              "1          True    98125           1690        7639  \n",
              "2         False    98028           2720        8062  \n",
              "3         False    98136           1360        5000  \n",
              "4         False    98074           1800        7503  "
            ],
            "text/html": [
              "\n",
              "  <div id=\"df-14f820ea-c38e-4e6e-9bd4-310953e1bf69\">\n",
              "    <div class=\"colab-df-container\">\n",
              "      <div>\n",
              "<style scoped>\n",
              "    .dataframe tbody tr th:only-of-type {\n",
              "        vertical-align: middle;\n",
              "    }\n",
              "\n",
              "    .dataframe tbody tr th {\n",
              "        vertical-align: top;\n",
              "    }\n",
              "\n",
              "    .dataframe thead th {\n",
              "        text-align: right;\n",
              "    }\n",
              "</style>\n",
              "<table border=\"1\" class=\"dataframe\">\n",
              "  <thead>\n",
              "    <tr style=\"text-align: right;\">\n",
              "      <th></th>\n",
              "      <th>date</th>\n",
              "      <th>price</th>\n",
              "      <th>bedrooms</th>\n",
              "      <th>bathrooms</th>\n",
              "      <th>sqft_living</th>\n",
              "      <th>sqft_lot</th>\n",
              "      <th>floors</th>\n",
              "      <th>waterfront</th>\n",
              "      <th>view</th>\n",
              "      <th>condition</th>\n",
              "      <th>grade</th>\n",
              "      <th>sqft_above</th>\n",
              "      <th>sqft_basement</th>\n",
              "      <th>yr_built</th>\n",
              "      <th>yr_renovated</th>\n",
              "      <th>zipcode</th>\n",
              "      <th>sqft_living15</th>\n",
              "      <th>sqft_lot15</th>\n",
              "    </tr>\n",
              "  </thead>\n",
              "  <tbody>\n",
              "    <tr>\n",
              "      <th>0</th>\n",
              "      <td>2014-10-13</td>\n",
              "      <td>221900.0</td>\n",
              "      <td>3.0</td>\n",
              "      <td>1.0</td>\n",
              "      <td>1180.0</td>\n",
              "      <td>5650.0</td>\n",
              "      <td>1.0</td>\n",
              "      <td>0</td>\n",
              "      <td>0</td>\n",
              "      <td>3</td>\n",
              "      <td>7</td>\n",
              "      <td>1180</td>\n",
              "      <td>False</td>\n",
              "      <td>1955</td>\n",
              "      <td>False</td>\n",
              "      <td>98178</td>\n",
              "      <td>1340</td>\n",
              "      <td>5650</td>\n",
              "    </tr>\n",
              "    <tr>\n",
              "      <th>1</th>\n",
              "      <td>2014-12-09</td>\n",
              "      <td>538000.0</td>\n",
              "      <td>3.0</td>\n",
              "      <td>2.0</td>\n",
              "      <td>2570.0</td>\n",
              "      <td>7242.0</td>\n",
              "      <td>2.0</td>\n",
              "      <td>0</td>\n",
              "      <td>0</td>\n",
              "      <td>3</td>\n",
              "      <td>7</td>\n",
              "      <td>2170</td>\n",
              "      <td>True</td>\n",
              "      <td>1951</td>\n",
              "      <td>True</td>\n",
              "      <td>98125</td>\n",
              "      <td>1690</td>\n",
              "      <td>7639</td>\n",
              "    </tr>\n",
              "    <tr>\n",
              "      <th>2</th>\n",
              "      <td>2015-02-25</td>\n",
              "      <td>180000.0</td>\n",
              "      <td>2.0</td>\n",
              "      <td>1.0</td>\n",
              "      <td>770.0</td>\n",
              "      <td>10000.0</td>\n",
              "      <td>1.0</td>\n",
              "      <td>0</td>\n",
              "      <td>0</td>\n",
              "      <td>3</td>\n",
              "      <td>6</td>\n",
              "      <td>770</td>\n",
              "      <td>False</td>\n",
              "      <td>1933</td>\n",
              "      <td>False</td>\n",
              "      <td>98028</td>\n",
              "      <td>2720</td>\n",
              "      <td>8062</td>\n",
              "    </tr>\n",
              "    <tr>\n",
              "      <th>3</th>\n",
              "      <td>2014-12-09</td>\n",
              "      <td>604000.0</td>\n",
              "      <td>4.0</td>\n",
              "      <td>3.0</td>\n",
              "      <td>1960.0</td>\n",
              "      <td>5000.0</td>\n",
              "      <td>1.0</td>\n",
              "      <td>0</td>\n",
              "      <td>0</td>\n",
              "      <td>5</td>\n",
              "      <td>7</td>\n",
              "      <td>1050</td>\n",
              "      <td>True</td>\n",
              "      <td>1965</td>\n",
              "      <td>False</td>\n",
              "      <td>98136</td>\n",
              "      <td>1360</td>\n",
              "      <td>5000</td>\n",
              "    </tr>\n",
              "    <tr>\n",
              "      <th>4</th>\n",
              "      <td>2015-02-18</td>\n",
              "      <td>510000.0</td>\n",
              "      <td>3.0</td>\n",
              "      <td>2.0</td>\n",
              "      <td>1680.0</td>\n",
              "      <td>8080.0</td>\n",
              "      <td>1.0</td>\n",
              "      <td>0</td>\n",
              "      <td>0</td>\n",
              "      <td>3</td>\n",
              "      <td>8</td>\n",
              "      <td>1680</td>\n",
              "      <td>False</td>\n",
              "      <td>1987</td>\n",
              "      <td>False</td>\n",
              "      <td>98074</td>\n",
              "      <td>1800</td>\n",
              "      <td>7503</td>\n",
              "    </tr>\n",
              "  </tbody>\n",
              "</table>\n",
              "</div>\n",
              "      <button class=\"colab-df-convert\" onclick=\"convertToInteractive('df-14f820ea-c38e-4e6e-9bd4-310953e1bf69')\"\n",
              "              title=\"Convert this dataframe to an interactive table.\"\n",
              "              style=\"display:none;\">\n",
              "        \n",
              "  <svg xmlns=\"http://www.w3.org/2000/svg\" height=\"24px\"viewBox=\"0 0 24 24\"\n",
              "       width=\"24px\">\n",
              "    <path d=\"M0 0h24v24H0V0z\" fill=\"none\"/>\n",
              "    <path d=\"M18.56 5.44l.94 2.06.94-2.06 2.06-.94-2.06-.94-.94-2.06-.94 2.06-2.06.94zm-11 1L8.5 8.5l.94-2.06 2.06-.94-2.06-.94L8.5 2.5l-.94 2.06-2.06.94zm10 10l.94 2.06.94-2.06 2.06-.94-2.06-.94-.94-2.06-.94 2.06-2.06.94z\"/><path d=\"M17.41 7.96l-1.37-1.37c-.4-.4-.92-.59-1.43-.59-.52 0-1.04.2-1.43.59L10.3 9.45l-7.72 7.72c-.78.78-.78 2.05 0 2.83L4 21.41c.39.39.9.59 1.41.59.51 0 1.02-.2 1.41-.59l7.78-7.78 2.81-2.81c.8-.78.8-2.07 0-2.86zM5.41 20L4 18.59l7.72-7.72 1.47 1.35L5.41 20z\"/>\n",
              "  </svg>\n",
              "      </button>\n",
              "      \n",
              "  <style>\n",
              "    .colab-df-container {\n",
              "      display:flex;\n",
              "      flex-wrap:wrap;\n",
              "      gap: 12px;\n",
              "    }\n",
              "\n",
              "    .colab-df-convert {\n",
              "      background-color: #E8F0FE;\n",
              "      border: none;\n",
              "      border-radius: 50%;\n",
              "      cursor: pointer;\n",
              "      display: none;\n",
              "      fill: #1967D2;\n",
              "      height: 32px;\n",
              "      padding: 0 0 0 0;\n",
              "      width: 32px;\n",
              "    }\n",
              "\n",
              "    .colab-df-convert:hover {\n",
              "      background-color: #E2EBFA;\n",
              "      box-shadow: 0px 1px 2px rgba(60, 64, 67, 0.3), 0px 1px 3px 1px rgba(60, 64, 67, 0.15);\n",
              "      fill: #174EA6;\n",
              "    }\n",
              "\n",
              "    [theme=dark] .colab-df-convert {\n",
              "      background-color: #3B4455;\n",
              "      fill: #D2E3FC;\n",
              "    }\n",
              "\n",
              "    [theme=dark] .colab-df-convert:hover {\n",
              "      background-color: #434B5C;\n",
              "      box-shadow: 0px 1px 3px 1px rgba(0, 0, 0, 0.15);\n",
              "      filter: drop-shadow(0px 1px 2px rgba(0, 0, 0, 0.3));\n",
              "      fill: #FFFFFF;\n",
              "    }\n",
              "  </style>\n",
              "\n",
              "      <script>\n",
              "        const buttonEl =\n",
              "          document.querySelector('#df-14f820ea-c38e-4e6e-9bd4-310953e1bf69 button.colab-df-convert');\n",
              "        buttonEl.style.display =\n",
              "          google.colab.kernel.accessAllowed ? 'block' : 'none';\n",
              "\n",
              "        async function convertToInteractive(key) {\n",
              "          const element = document.querySelector('#df-14f820ea-c38e-4e6e-9bd4-310953e1bf69');\n",
              "          const dataTable =\n",
              "            await google.colab.kernel.invokeFunction('convertToInteractive',\n",
              "                                                     [key], {});\n",
              "          if (!dataTable) return;\n",
              "\n",
              "          const docLinkHtml = 'Like what you see? Visit the ' +\n",
              "            '<a target=\"_blank\" href=https://colab.research.google.com/notebooks/data_table.ipynb>data table notebook</a>'\n",
              "            + ' to learn more about interactive tables.';\n",
              "          element.innerHTML = '';\n",
              "          dataTable['output_type'] = 'display_data';\n",
              "          await google.colab.output.renderOutput(dataTable, element);\n",
              "          const docLink = document.createElement('div');\n",
              "          docLink.innerHTML = docLinkHtml;\n",
              "          element.appendChild(docLink);\n",
              "        }\n",
              "      </script>\n",
              "    </div>\n",
              "  </div>\n",
              "  "
            ]
          },
          "metadata": {},
          "execution_count": 31
        }
      ]
    },
    {
      "cell_type": "code",
      "source": [
        "# 2.2 Provide measures of centrality and distribution with visualizations\n",
        "\n",
        "#Key statistics of studied variables\n",
        "df.describe()"
      ],
      "metadata": {
        "colab": {
          "base_uri": "https://localhost:8080/",
          "height": 364
        },
        "id": "Rv3ByPIESs0H",
        "outputId": "5a75fe22-3807-444c-bcf9-37b6f198f6c2"
      },
      "execution_count": 32,
      "outputs": [
        {
          "output_type": "execute_result",
          "data": {
            "text/plain": [
              "              price      bedrooms     bathrooms   sqft_living      sqft_lot  \\\n",
              "count  2.161300e+04  21613.000000  21613.000000  20503.000000  2.056900e+04   \n",
              "mean   5.400881e+05      3.367352      2.057532   2081.073697  1.517982e+04   \n",
              "std    3.671272e+05      0.866998      0.735084    915.043176  4.148617e+04   \n",
              "min    7.500000e+04      0.000000      0.000000    290.000000  5.200000e+02   \n",
              "25%    3.219500e+05      3.000000      2.000000   1430.000000  5.040000e+03   \n",
              "50%    4.500000e+05      3.000000      2.000000   1920.000000  7.620000e+03   \n",
              "75%    6.450000e+05      4.000000      2.000000   2550.000000  1.070800e+04   \n",
              "max    7.700000e+06      6.000000      8.000000  12050.000000  1.651359e+06   \n",
              "\n",
              "             floors    waterfront          view     condition         grade  \\\n",
              "count  21613.000000  21613.000000  21613.000000  21613.000000  21613.000000   \n",
              "mean       1.534956      0.007542      0.015361      3.409430      7.656873   \n",
              "std        0.554742      0.086517      0.122987      0.650743      1.175459   \n",
              "min        1.000000      0.000000      0.000000      1.000000      1.000000   \n",
              "25%        1.000000      0.000000      0.000000      3.000000      7.000000   \n",
              "50%        2.000000      0.000000      0.000000      3.000000      7.000000   \n",
              "75%        2.000000      0.000000      0.000000      4.000000      8.000000   \n",
              "max        4.000000      1.000000      1.000000      5.000000     13.000000   \n",
              "\n",
              "         sqft_above      yr_built       zipcode  sqft_living15     sqft_lot15  \n",
              "count  21613.000000  21613.000000  21613.000000   21613.000000   21613.000000  \n",
              "mean    1788.390691   1971.005136  98077.939805    1986.552492   12768.455652  \n",
              "std      828.090978     29.373411     53.505026     685.391304   27304.179631  \n",
              "min      290.000000   1900.000000  98001.000000     399.000000     651.000000  \n",
              "25%     1190.000000   1951.000000  98033.000000    1490.000000    5100.000000  \n",
              "50%     1560.000000   1975.000000  98065.000000    1840.000000    7620.000000  \n",
              "75%     2210.000000   1997.000000  98118.000000    2360.000000   10083.000000  \n",
              "max     9410.000000   2015.000000  98199.000000    6210.000000  871200.000000  "
            ],
            "text/html": [
              "\n",
              "  <div id=\"df-0f1dfb34-37dc-425d-a272-9e067199a73c\">\n",
              "    <div class=\"colab-df-container\">\n",
              "      <div>\n",
              "<style scoped>\n",
              "    .dataframe tbody tr th:only-of-type {\n",
              "        vertical-align: middle;\n",
              "    }\n",
              "\n",
              "    .dataframe tbody tr th {\n",
              "        vertical-align: top;\n",
              "    }\n",
              "\n",
              "    .dataframe thead th {\n",
              "        text-align: right;\n",
              "    }\n",
              "</style>\n",
              "<table border=\"1\" class=\"dataframe\">\n",
              "  <thead>\n",
              "    <tr style=\"text-align: right;\">\n",
              "      <th></th>\n",
              "      <th>price</th>\n",
              "      <th>bedrooms</th>\n",
              "      <th>bathrooms</th>\n",
              "      <th>sqft_living</th>\n",
              "      <th>sqft_lot</th>\n",
              "      <th>floors</th>\n",
              "      <th>waterfront</th>\n",
              "      <th>view</th>\n",
              "      <th>condition</th>\n",
              "      <th>grade</th>\n",
              "      <th>sqft_above</th>\n",
              "      <th>yr_built</th>\n",
              "      <th>zipcode</th>\n",
              "      <th>sqft_living15</th>\n",
              "      <th>sqft_lot15</th>\n",
              "    </tr>\n",
              "  </thead>\n",
              "  <tbody>\n",
              "    <tr>\n",
              "      <th>count</th>\n",
              "      <td>2.161300e+04</td>\n",
              "      <td>21613.000000</td>\n",
              "      <td>21613.000000</td>\n",
              "      <td>20503.000000</td>\n",
              "      <td>2.056900e+04</td>\n",
              "      <td>21613.000000</td>\n",
              "      <td>21613.000000</td>\n",
              "      <td>21613.000000</td>\n",
              "      <td>21613.000000</td>\n",
              "      <td>21613.000000</td>\n",
              "      <td>21613.000000</td>\n",
              "      <td>21613.000000</td>\n",
              "      <td>21613.000000</td>\n",
              "      <td>21613.000000</td>\n",
              "      <td>21613.000000</td>\n",
              "    </tr>\n",
              "    <tr>\n",
              "      <th>mean</th>\n",
              "      <td>5.400881e+05</td>\n",
              "      <td>3.367352</td>\n",
              "      <td>2.057532</td>\n",
              "      <td>2081.073697</td>\n",
              "      <td>1.517982e+04</td>\n",
              "      <td>1.534956</td>\n",
              "      <td>0.007542</td>\n",
              "      <td>0.015361</td>\n",
              "      <td>3.409430</td>\n",
              "      <td>7.656873</td>\n",
              "      <td>1788.390691</td>\n",
              "      <td>1971.005136</td>\n",
              "      <td>98077.939805</td>\n",
              "      <td>1986.552492</td>\n",
              "      <td>12768.455652</td>\n",
              "    </tr>\n",
              "    <tr>\n",
              "      <th>std</th>\n",
              "      <td>3.671272e+05</td>\n",
              "      <td>0.866998</td>\n",
              "      <td>0.735084</td>\n",
              "      <td>915.043176</td>\n",
              "      <td>4.148617e+04</td>\n",
              "      <td>0.554742</td>\n",
              "      <td>0.086517</td>\n",
              "      <td>0.122987</td>\n",
              "      <td>0.650743</td>\n",
              "      <td>1.175459</td>\n",
              "      <td>828.090978</td>\n",
              "      <td>29.373411</td>\n",
              "      <td>53.505026</td>\n",
              "      <td>685.391304</td>\n",
              "      <td>27304.179631</td>\n",
              "    </tr>\n",
              "    <tr>\n",
              "      <th>min</th>\n",
              "      <td>7.500000e+04</td>\n",
              "      <td>0.000000</td>\n",
              "      <td>0.000000</td>\n",
              "      <td>290.000000</td>\n",
              "      <td>5.200000e+02</td>\n",
              "      <td>1.000000</td>\n",
              "      <td>0.000000</td>\n",
              "      <td>0.000000</td>\n",
              "      <td>1.000000</td>\n",
              "      <td>1.000000</td>\n",
              "      <td>290.000000</td>\n",
              "      <td>1900.000000</td>\n",
              "      <td>98001.000000</td>\n",
              "      <td>399.000000</td>\n",
              "      <td>651.000000</td>\n",
              "    </tr>\n",
              "    <tr>\n",
              "      <th>25%</th>\n",
              "      <td>3.219500e+05</td>\n",
              "      <td>3.000000</td>\n",
              "      <td>2.000000</td>\n",
              "      <td>1430.000000</td>\n",
              "      <td>5.040000e+03</td>\n",
              "      <td>1.000000</td>\n",
              "      <td>0.000000</td>\n",
              "      <td>0.000000</td>\n",
              "      <td>3.000000</td>\n",
              "      <td>7.000000</td>\n",
              "      <td>1190.000000</td>\n",
              "      <td>1951.000000</td>\n",
              "      <td>98033.000000</td>\n",
              "      <td>1490.000000</td>\n",
              "      <td>5100.000000</td>\n",
              "    </tr>\n",
              "    <tr>\n",
              "      <th>50%</th>\n",
              "      <td>4.500000e+05</td>\n",
              "      <td>3.000000</td>\n",
              "      <td>2.000000</td>\n",
              "      <td>1920.000000</td>\n",
              "      <td>7.620000e+03</td>\n",
              "      <td>2.000000</td>\n",
              "      <td>0.000000</td>\n",
              "      <td>0.000000</td>\n",
              "      <td>3.000000</td>\n",
              "      <td>7.000000</td>\n",
              "      <td>1560.000000</td>\n",
              "      <td>1975.000000</td>\n",
              "      <td>98065.000000</td>\n",
              "      <td>1840.000000</td>\n",
              "      <td>7620.000000</td>\n",
              "    </tr>\n",
              "    <tr>\n",
              "      <th>75%</th>\n",
              "      <td>6.450000e+05</td>\n",
              "      <td>4.000000</td>\n",
              "      <td>2.000000</td>\n",
              "      <td>2550.000000</td>\n",
              "      <td>1.070800e+04</td>\n",
              "      <td>2.000000</td>\n",
              "      <td>0.000000</td>\n",
              "      <td>0.000000</td>\n",
              "      <td>4.000000</td>\n",
              "      <td>8.000000</td>\n",
              "      <td>2210.000000</td>\n",
              "      <td>1997.000000</td>\n",
              "      <td>98118.000000</td>\n",
              "      <td>2360.000000</td>\n",
              "      <td>10083.000000</td>\n",
              "    </tr>\n",
              "    <tr>\n",
              "      <th>max</th>\n",
              "      <td>7.700000e+06</td>\n",
              "      <td>6.000000</td>\n",
              "      <td>8.000000</td>\n",
              "      <td>12050.000000</td>\n",
              "      <td>1.651359e+06</td>\n",
              "      <td>4.000000</td>\n",
              "      <td>1.000000</td>\n",
              "      <td>1.000000</td>\n",
              "      <td>5.000000</td>\n",
              "      <td>13.000000</td>\n",
              "      <td>9410.000000</td>\n",
              "      <td>2015.000000</td>\n",
              "      <td>98199.000000</td>\n",
              "      <td>6210.000000</td>\n",
              "      <td>871200.000000</td>\n",
              "    </tr>\n",
              "  </tbody>\n",
              "</table>\n",
              "</div>\n",
              "      <button class=\"colab-df-convert\" onclick=\"convertToInteractive('df-0f1dfb34-37dc-425d-a272-9e067199a73c')\"\n",
              "              title=\"Convert this dataframe to an interactive table.\"\n",
              "              style=\"display:none;\">\n",
              "        \n",
              "  <svg xmlns=\"http://www.w3.org/2000/svg\" height=\"24px\"viewBox=\"0 0 24 24\"\n",
              "       width=\"24px\">\n",
              "    <path d=\"M0 0h24v24H0V0z\" fill=\"none\"/>\n",
              "    <path d=\"M18.56 5.44l.94 2.06.94-2.06 2.06-.94-2.06-.94-.94-2.06-.94 2.06-2.06.94zm-11 1L8.5 8.5l.94-2.06 2.06-.94-2.06-.94L8.5 2.5l-.94 2.06-2.06.94zm10 10l.94 2.06.94-2.06 2.06-.94-2.06-.94-.94-2.06-.94 2.06-2.06.94z\"/><path d=\"M17.41 7.96l-1.37-1.37c-.4-.4-.92-.59-1.43-.59-.52 0-1.04.2-1.43.59L10.3 9.45l-7.72 7.72c-.78.78-.78 2.05 0 2.83L4 21.41c.39.39.9.59 1.41.59.51 0 1.02-.2 1.41-.59l7.78-7.78 2.81-2.81c.8-.78.8-2.07 0-2.86zM5.41 20L4 18.59l7.72-7.72 1.47 1.35L5.41 20z\"/>\n",
              "  </svg>\n",
              "      </button>\n",
              "      \n",
              "  <style>\n",
              "    .colab-df-container {\n",
              "      display:flex;\n",
              "      flex-wrap:wrap;\n",
              "      gap: 12px;\n",
              "    }\n",
              "\n",
              "    .colab-df-convert {\n",
              "      background-color: #E8F0FE;\n",
              "      border: none;\n",
              "      border-radius: 50%;\n",
              "      cursor: pointer;\n",
              "      display: none;\n",
              "      fill: #1967D2;\n",
              "      height: 32px;\n",
              "      padding: 0 0 0 0;\n",
              "      width: 32px;\n",
              "    }\n",
              "\n",
              "    .colab-df-convert:hover {\n",
              "      background-color: #E2EBFA;\n",
              "      box-shadow: 0px 1px 2px rgba(60, 64, 67, 0.3), 0px 1px 3px 1px rgba(60, 64, 67, 0.15);\n",
              "      fill: #174EA6;\n",
              "    }\n",
              "\n",
              "    [theme=dark] .colab-df-convert {\n",
              "      background-color: #3B4455;\n",
              "      fill: #D2E3FC;\n",
              "    }\n",
              "\n",
              "    [theme=dark] .colab-df-convert:hover {\n",
              "      background-color: #434B5C;\n",
              "      box-shadow: 0px 1px 3px 1px rgba(0, 0, 0, 0.15);\n",
              "      filter: drop-shadow(0px 1px 2px rgba(0, 0, 0, 0.3));\n",
              "      fill: #FFFFFF;\n",
              "    }\n",
              "  </style>\n",
              "\n",
              "      <script>\n",
              "        const buttonEl =\n",
              "          document.querySelector('#df-0f1dfb34-37dc-425d-a272-9e067199a73c button.colab-df-convert');\n",
              "        buttonEl.style.display =\n",
              "          google.colab.kernel.accessAllowed ? 'block' : 'none';\n",
              "\n",
              "        async function convertToInteractive(key) {\n",
              "          const element = document.querySelector('#df-0f1dfb34-37dc-425d-a272-9e067199a73c');\n",
              "          const dataTable =\n",
              "            await google.colab.kernel.invokeFunction('convertToInteractive',\n",
              "                                                     [key], {});\n",
              "          if (!dataTable) return;\n",
              "\n",
              "          const docLinkHtml = 'Like what you see? Visit the ' +\n",
              "            '<a target=\"_blank\" href=https://colab.research.google.com/notebooks/data_table.ipynb>data table notebook</a>'\n",
              "            + ' to learn more about interactive tables.';\n",
              "          element.innerHTML = '';\n",
              "          dataTable['output_type'] = 'display_data';\n",
              "          await google.colab.output.renderOutput(dataTable, element);\n",
              "          const docLink = document.createElement('div');\n",
              "          docLink.innerHTML = docLinkHtml;\n",
              "          element.appendChild(docLink);\n",
              "        }\n",
              "      </script>\n",
              "    </div>\n",
              "  </div>\n",
              "  "
            ]
          },
          "metadata": {},
          "execution_count": 32
        }
      ]
    },
    {
      "cell_type": "code",
      "source": [
        "# 2.3 Diagnose for correlations between variables and determine independent and dependent variables\n",
        "\n",
        "#Define correlation matrix\n",
        "cor_matrix = df.corr().abs()\n",
        "\n",
        "#Only reflect upper triangle of correlation matrix\n",
        "upper_tri = cor_matrix.where(np.triu(np.ones(cor_matrix.shape),k=1).astype(np.bool))\n",
        "print(upper_tri)\n",
        "\n",
        "#Only print values in which correlation coefficient exceeds +/- 0.7 (4/10 - still wip)\n",
        "#to_drop = [column for column in upper_tri.columns if any(upper_tri[column] > 0.70)]\n",
        "#print(to_drop)"
      ],
      "metadata": {
        "id": "WDe0uNPSUy_0",
        "colab": {
          "base_uri": "https://localhost:8080/"
        },
        "outputId": "511150b8-ff8e-4074-dc4a-6ef5ba9c30b9"
      },
      "execution_count": 33,
      "outputs": [
        {
          "output_type": "stream",
          "name": "stdout",
          "text": [
            "               price  bedrooms  bathrooms  sqft_living  sqft_lot    floors  \\\n",
            "price            NaN  0.311153   0.510003     0.701579  0.088422  0.244906   \n",
            "bedrooms         NaN       NaN   0.477178     0.581566  0.030130  0.182953   \n",
            "bathrooms        NaN       NaN        NaN     0.683094  0.086012  0.318674   \n",
            "sqft_living      NaN       NaN        NaN          NaN  0.168363  0.323410   \n",
            "sqft_lot         NaN       NaN        NaN          NaN       NaN  0.002839   \n",
            "floors           NaN       NaN        NaN          NaN       NaN       NaN   \n",
            "waterfront       NaN       NaN        NaN          NaN       NaN       NaN   \n",
            "view             NaN       NaN        NaN          NaN       NaN       NaN   \n",
            "condition        NaN       NaN        NaN          NaN       NaN       NaN   \n",
            "grade            NaN       NaN        NaN          NaN       NaN       NaN   \n",
            "sqft_above       NaN       NaN        NaN          NaN       NaN       NaN   \n",
            "sqft_basement    NaN       NaN        NaN          NaN       NaN       NaN   \n",
            "yr_built         NaN       NaN        NaN          NaN       NaN       NaN   \n",
            "yr_renovated     NaN       NaN        NaN          NaN       NaN       NaN   \n",
            "zipcode          NaN       NaN        NaN          NaN       NaN       NaN   \n",
            "sqft_living15    NaN       NaN        NaN          NaN       NaN       NaN   \n",
            "sqft_lot15       NaN       NaN        NaN          NaN       NaN       NaN   \n",
            "\n",
            "               waterfront      view  condition     grade  sqft_above  \\\n",
            "price            0.266369  0.092607   0.036362  0.667434    0.605567   \n",
            "bedrooms         0.003991  0.021227   0.024836  0.364375    0.482850   \n",
            "bathrooms        0.069010  0.049947   0.066271  0.577101    0.584210   \n",
            "sqft_living      0.107053  0.067329   0.059371  0.763833    0.875966   \n",
            "sqft_lot         0.021173  0.008187   0.009154  0.111713    0.181152   \n",
            "floors           0.025839  0.022113   0.223259  0.407675    0.488411   \n",
            "waterfront            NaN  0.006540   0.016653  0.082775    0.072075   \n",
            "view                  NaN       NaN   0.019697  0.048944    0.021839   \n",
            "condition             NaN       NaN        NaN  0.144674    0.158214   \n",
            "grade                 NaN       NaN        NaN       NaN    0.755923   \n",
            "sqft_above            NaN       NaN        NaN       NaN         NaN   \n",
            "sqft_basement         NaN       NaN        NaN       NaN         NaN   \n",
            "yr_built              NaN       NaN        NaN       NaN         NaN   \n",
            "yr_renovated          NaN       NaN        NaN       NaN         NaN   \n",
            "zipcode               NaN       NaN        NaN       NaN         NaN   \n",
            "sqft_living15         NaN       NaN        NaN       NaN         NaN   \n",
            "sqft_lot15            NaN       NaN        NaN       NaN         NaN   \n",
            "\n",
            "               sqft_basement  yr_built  yr_renovated   zipcode  sqft_living15  \\\n",
            "price               0.180230  0.054012      0.126092  0.053203       0.585379   \n",
            "bedrooms            0.159708  0.162579      0.019422  0.157804       0.399205   \n",
            "bathrooms           0.222363  0.369534      0.066550  0.141380       0.484786   \n",
            "sqft_living         0.202806  0.319783      0.056751  0.199637       0.756901   \n",
            "sqft_lot            0.034901  0.052165      0.009096  0.131311       0.145112   \n",
            "floors              0.252465  0.381396      0.015356  0.022506       0.242730   \n",
            "waterfront          0.037227  0.026161      0.093294  0.030285       0.086463   \n",
            "view                0.087539  0.034053      0.033574  0.043251       0.076880   \n",
            "condition           0.135577  0.361417      0.060139  0.003026       0.092824   \n",
            "grade               0.051838  0.446963      0.014008  0.184862       0.713202   \n",
            "sqft_above          0.210991  0.423898      0.023178  0.261190       0.731870   \n",
            "sqft_basement            NaN  0.167902      0.049004  0.162968       0.043830   \n",
            "yr_built                 NaN       NaN      0.225195  0.346869       0.326229   \n",
            "yr_renovated             NaN       NaN           NaN  0.064335       0.002755   \n",
            "zipcode                  NaN       NaN           NaN       NaN       0.279033   \n",
            "sqft_living15            NaN       NaN           NaN       NaN            NaN   \n",
            "sqft_lot15               NaN       NaN           NaN       NaN            NaN   \n",
            "\n",
            "               sqft_lot15  \n",
            "price            0.082447  \n",
            "bedrooms         0.026854  \n",
            "bathrooms        0.086277  \n",
            "sqft_living      0.181697  \n",
            "sqft_lot         0.728800  \n",
            "floors           0.010895  \n",
            "waterfront       0.030703  \n",
            "view             0.009125  \n",
            "condition        0.003406  \n",
            "grade            0.119248  \n",
            "sqft_above       0.194050  \n",
            "sqft_basement    0.040733  \n",
            "yr_built         0.070958  \n",
            "yr_renovated     0.007920  \n",
            "zipcode          0.147221  \n",
            "sqft_living15    0.183192  \n",
            "sqft_lot15            NaN  \n"
          ]
        },
        {
          "output_type": "stream",
          "name": "stderr",
          "text": [
            "/usr/local/lib/python3.7/dist-packages/ipykernel_launcher.py:7: DeprecationWarning: `np.bool` is a deprecated alias for the builtin `bool`. To silence this warning, use `bool` by itself. Doing this will not modify any behavior and is safe. If you specifically wanted the numpy scalar type, use `np.bool_` here.\n",
            "Deprecated in NumPy 1.20; for more details and guidance: https://numpy.org/devdocs/release/1.20.0-notes.html#deprecations\n",
            "  import sys\n"
          ]
        }
      ]
    },
    {
      "cell_type": "code",
      "source": [
        "# 2.4 Perform exploratory analysis in combination with visualization techniques to discover patterns and features of interest\n",
        "\n",
        "# Scatterplot for sqft_living (X) and price (Y)\n",
        "plt.figure()\n",
        "plt.scatter(df.sqft_living, df.price, alpha=0.7)\n",
        "\n",
        "# Label axis\n",
        "plt.xlabel('Living SqFt')\n",
        "plt.ylabel('Price')"
      ],
      "metadata": {
        "id": "eQJgxLSBxBLB",
        "colab": {
          "base_uri": "https://localhost:8080/",
          "height": 307
        },
        "outputId": "ab6ecba1-fff8-4ddc-a5a2-7fa34ebb7936"
      },
      "execution_count": 34,
      "outputs": [
        {
          "output_type": "execute_result",
          "data": {
            "text/plain": [
              "Text(0, 0.5, 'Price')"
            ]
          },
          "metadata": {},
          "execution_count": 34
        },
        {
          "output_type": "display_data",
          "data": {
            "text/plain": [
              "<Figure size 432x288 with 1 Axes>"
            ],
            "image/png": "[encoded data removed]"
          },
          "metadata": {
            "needs_background": "light"
          }
        }
      ]
    },
    {
      "cell_type": "code",
      "source": [
        "# Histogram of living square footage\n",
        "df.hist(column = 'sqft_living', bins = 5)"
      ],
      "metadata": {
        "colab": {
          "base_uri": "https://localhost:8080/",
          "height": 316
        },
        "id": "u8JYsGvmzIyr",
        "outputId": "22d2b57c-d3cc-4b49-dafe-277a7ead5392"
      },
      "execution_count": 35,
      "outputs": [
        {
          "output_type": "execute_result",
          "data": {
            "text/plain": [
              "array([[<matplotlib.axes._subplots.AxesSubplot object at 0x7fb4dc5548d0>]],\n",
              "      dtype=object)"
            ]
          },
          "metadata": {},
          "execution_count": 35
        },
        {
          "output_type": "display_data",
          "data": {
            "text/plain": [
              "<Figure size 432x288 with 1 Axes>"
            ],
            "image/png": "[encoded data removed]"
          },
          "metadata": {
            "needs_background": "light"
          }
        }
      ]
    },
    {
      "cell_type": "code",
      "source": [
        "# Boxplot to identify bedroom numbers distribution\n",
        "plt.boxplot(df['bedrooms'])\n",
        "plt.show()"
      ],
      "metadata": {
        "colab": {
          "base_uri": "https://localhost:8080/",
          "height": 265
        },
        "id": "zOnqzwCuztEX",
        "outputId": "f829d893-2f64-461c-d063-3b666c3bd490"
      },
      "execution_count": 36,
      "outputs": [
        {
          "output_type": "display_data",
          "data": {
            "text/plain": [
              "<Figure size 432x288 with 1 Axes>"
            ],
            "image/png": "[encoded data removed]"
          },
          "metadata": {
            "needs_background": "light"
          }
        }
      ]
    },
    {
      "cell_type": "code",
      "source": [
        "# Bedrooms x bathrooms x price"
      ],
      "metadata": {
        "id": "gXiDJBB-Fb3B"
      },
      "execution_count": null,
      "outputs": []
    },
    {
      "cell_type": "markdown",
      "source": [
        "Part 3: Data Analytics"
      ],
      "metadata": {
        "id": "a0H9ah7I0bto"
      }
    },
    {
      "cell_type": "code",
      "source": [
        "# 3.1 Determine the need for a supervised or unsupervised learning method and identify dependent and independent variables\n",
        "\n",
        "# Supervised learning: Predict price based on amount of bedrooms from bathrooms\n",
        "\n",
        "# 3.2 Train, test, and provide accuracy and evaluation metrics for model results\n",
        "# Import library\n",
        "import statsmodels.api as sm\n",
        "\n",
        "Y = df.price # Dependent variable\n",
        "X = df.bedrooms # Independent variable\n",
        "X = sm.add_constant(X) # Add constant term to predictor\n",
        "\n",
        "# Establish linear regression model results\n",
        "linreg_model = sm.OLS(Y,X).fit()\n",
        "print(linreg_model.summary())\n",
        "\n",
        "X_prime = np.linspace(df.bedrooms.min(), df.bedrooms.max(),100)\n",
        "X_prime = sm.add_constant(X_prime)"
      ],
      "metadata": {
        "id": "RdHZRijJ0ciG",
        "colab": {
          "base_uri": "https://localhost:8080/"
        },
        "outputId": "984d4075-8f33-449f-d4a1-97a8df8eda74"
      },
      "execution_count": 40,
      "outputs": [
        {
          "output_type": "stream",
          "name": "stdout",
          "text": [
            "                            OLS Regression Results                            \n",
            "==============================================================================\n",
            "Dep. Variable:                  price   R-squared:                       0.097\n",
            "Model:                            OLS   Adj. R-squared:                  0.097\n",
            "Method:                 Least Squares   F-statistic:                     2317.\n",
            "Date:                Wed, 13 Apr 2022   Prob (F-statistic):               0.00\n",
            "Time:                        04:21:38   Log-Likelihood:            -3.0650e+05\n",
            "No. Observations:               21613   AIC:                         6.130e+05\n",
            "Df Residuals:                   21611   BIC:                         6.130e+05\n",
            "Df Model:                           1                                         \n",
            "Covariance Type:            nonrobust                                         \n",
            "==============================================================================\n",
            "                 coef    std err          t      P>|t|      [0.025      0.975]\n",
            "------------------------------------------------------------------------------\n",
            "const       9.642e+04   9518.646     10.129      0.000    7.78e+04    1.15e+05\n",
            "bedrooms    1.318e+05   2737.470     48.131      0.000    1.26e+05    1.37e+05\n",
            "==============================================================================\n",
            "Omnibus:                    18900.642   Durbin-Watson:                   1.961\n",
            "Prob(Omnibus):                  0.000   Jarque-Bera (JB):          1152798.433\n",
            "Skew:                           3.935   Prob(JB):                         0.00\n",
            "Kurtosis:                      37.902   Cond. No.                         15.0\n",
            "==============================================================================\n",
            "\n",
            "Warnings:\n",
            "[1] Standard Errors assume that the covariance matrix of the errors is correctly specified.\n"
          ]
        },
        {
          "output_type": "stream",
          "name": "stderr",
          "text": [
            "/usr/local/lib/python3.7/dist-packages/statsmodels/tsa/tsatools.py:117: FutureWarning: In a future version of pandas all arguments of concat except for the argument 'objs' will be keyword-only\n",
            "  x = pd.concat(x[::order], 1)\n"
          ]
        }
      ]
    },
    {
      "cell_type": "code",
      "source": [
        "import seaborn as sns\n",
        "# Calculate predicted value\n",
        "Y_hat = linreg_model.predict(X_prime)\n",
        "\n",
        "# Graph scatterplot for relationship between total assets and customers served while considering airlines\n",
        "sns.scatterplot(x = df.bedrooms, y = df.price, hue = df.bathrooms)\n",
        "#plt.legend(bbox_to_anchor=(1.02, 1), loc='upper left', borderaxespad=0) #Shift Airline key to upper left\n",
        "\n",
        "# Create labels for x and y axis\n",
        "plt.xlabel(\"Bedrooms\")\n",
        "plt.ylabel(\"Price\")\n",
        "\n",
        "# Plot linear regression line\n",
        "plt.plot(X_prime[:,1],Y_hat, 'red', alpha = 0.9)"
      ],
      "metadata": {
        "colab": {
          "base_uri": "https://localhost:8080/",
          "height": 307
        },
        "id": "VF6JT1jOPGls",
        "outputId": "063a0c02-30f4-43d5-bc81-ef59e43d5225"
      },
      "execution_count": 46,
      "outputs": [
        {
          "output_type": "execute_result",
          "data": {
            "text/plain": [
              "[<matplotlib.lines.Line2D at 0x7fb4c9e5e710>]"
            ]
          },
          "metadata": {},
          "execution_count": 46
        },
        {
          "output_type": "display_data",
          "data": {
            "text/plain": [
              "<Figure size 432x288 with 1 Axes>"
            ],
            "image/png": "[encoded data removed]"
          },
          "metadata": {
            "needs_background": "light"
          }
        }
      ]
    }
  ]
}