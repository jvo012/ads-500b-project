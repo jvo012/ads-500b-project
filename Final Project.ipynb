{
 "cells": [
  {
   "cell_type": "markdown",
   "metadata": {},
   "source": [
    "# House Sales\n",
    "Dataset 2 (house_sales.csv) has data related to house sales for a county in Washington state."
   ]
  },
  {
   "cell_type": "code",
   "execution_count": null,
   "metadata": {
    "id": "4qyGIUtcJLv3"
   },
   "outputs": [],
   "source": [
    "import numpy as np\n",
    "import pandas as pd\n",
    "import matplotlib as mpl\n",
    "import matplotlib.pyplot as plt\n",
    "import seaborn as sns"
   ]
  },
  {
   "cell_type": "markdown",
   "metadata": {
    "id": "HXd3mdpMtbDD"
   },
   "source": [
    "## Part 1: Data Importing and Pre-processing"
   ]
  },
  {
   "cell_type": "code",
   "execution_count": null,
   "metadata": {
    "id": "GkxeAJ4Xt4gm"
   },
   "outputs": [],
   "source": [
    "# 1.1 Import dataset and describe characteristics such as dimensions, data types, file types, and import methods used\n",
    "\n",
    "df = pd.read_csv('https://raw.githubusercontent.com/jvo012/ads-500b-project/main/house_sales.csv')\n",
    "df.head()"
   ]
  },
  {
   "cell_type": "code",
   "execution_count": null,
   "metadata": {
    "colab": {
     "base_uri": "https://localhost:8080/"
    },
    "id": "cAsBltejJaYU",
    "outputId": "340d904a-e917-4ec2-c273-a564f40707a0"
   },
   "outputs": [],
   "source": [
    "# Identify the data types of key variables\n",
    "df.info()"
   ]
  },
  {
   "cell_type": "code",
   "execution_count": null,
   "metadata": {
    "id": "JsRwnx8BRS31"
   },
   "outputs": [],
   "source": [
    "# 1.2 Clean, wrangle, and handle missing data\n",
    "# 1.3 Transform data appropriately using techniques such as aggregation, normalization, and feature construction\n",
    "# 1.4 Reduce redundant data and perform need based discretization\n",
    "\n",
    "# Drop \"ID\", \"long\", and \"lat\" columns\n",
    "# These columns are irrelevant values that are too specific and do not fit the requirements needed for our analysis on the house market.\n",
    "df.drop([\"id\",\"long\",\"lat\"], axis=1, inplace = True)\n",
    "\n",
    "# Column \"yr_renovated\" converted to binary values (0=No, 1=Yes)\n",
    "# The year of renovation is an irrelevant observation. Instead, homes that were renovated have the value 1 (True), unrenovated homes kept the value 0 (False) to observe if a relationship exists with renovations and the housing market.\n",
    "df['yr_renovated'] = (df['yr_renovated'] > 0).astype(bool)\n",
    "df['sqft_basement'] = (df['sqft_basement'] > 0).astype(bool)\n",
    "\n",
    "# Determine the index corresponding to the max value of \"bedrooms\"\n",
    "x = df['bedrooms'].idxmax()\n",
    "\n",
    "# Display \"sqft_lot\" at max value of bedrooms\n",
    "print(\"Sqft_lot at max value of bedrooms: \", df.loc[x, 'sqft_living'])\n",
    "\n",
    "# 33 bedroom count highly unlikely given the corresponding \"sqft_living\" value of \"1620.0\"; likely data entry error\n",
    "# Replace \"33\" bedroom column count by \"3\"\n",
    "df['bedrooms'] = np.where(df['bedrooms'] == 33, 3, df['bedrooms'])\n",
    "\n",
    "# Converted data type to date_time\n",
    "# Changed the data type in order to use for further analysis.\n",
    "df['date'] = pd.to_datetime(df['date'], format='%Y%m%d %H:%M:%S')"
   ]
  },
  {
   "cell_type": "code",
   "execution_count": null,
   "metadata": {},
   "outputs": [],
   "source": [
    "# Count of missing values per column\n",
    "df.isnull().sum()"
   ]
  },
  {
   "cell_type": "code",
   "execution_count": null,
   "metadata": {
    "colab": {
     "base_uri": "https://localhost:8080/"
    },
    "id": "lWHChaaDRt3h",
    "outputId": "69851689-d8e0-4b37-b641-406227b0708f"
   },
   "outputs": [],
   "source": [
    "# Verify columns do not contain \"0\" value\n",
    "print(\"Price 0 values: \", '0' in df.price.values)\n",
    "print(\"Bathroom 0 values: \", '0' in df.bathrooms.values)\n",
    "print(\"Bedroom 0 values: \", '0' in df.bedrooms.values)\n",
    "print(\"Sqft_living 0 values: \", '0' in df.sqft_living.values)\n",
    "print(\"Sqft_lot 0 values: \", '0' in df.sqft_lot.values)\n",
    "print(\"Floors 0 values: \", '0' in df.floors.values)"
   ]
  },
  {
   "cell_type": "code",
   "execution_count": null,
   "metadata": {
    "id": "wXHFQBrdRzqb"
   },
   "outputs": [],
   "source": [
    "# Replace missing bedroom and bathroom count by the mean\n",
    "df['bedrooms'].replace(np.nan, df['bedrooms'].mean(), inplace=True)\n",
    "df['bathrooms'].replace(np.nan, df['bathrooms'].mean(), inplace=True)"
   ]
  },
  {
   "cell_type": "code",
   "execution_count": null,
   "metadata": {
    "colab": {
     "base_uri": "https://localhost:8080/"
    },
    "id": "ZbuwFvv5R1-r",
    "outputId": "853cbc41-8fa4-4eb9-a0a0-227c0ac5e8f6"
   },
   "outputs": [],
   "source": [
    "# Display column unique count to check for outliers\n",
    "print(\"Bedroom unique count:\", df.bedrooms.unique())\n",
    "print(\"Bathrooms unique count:\", df.bathrooms.unique())\n",
    "print(\"Floors unique count:\", df.floors.unique())\n",
    "print(\"Waterfront unique count:\", df.waterfront.unique())\n",
    "print(\"View unique count:\", df.view.unique())\n",
    "print(\"Condition unique count:\", df.condition.unique())\n",
    "print(\"Grade unique count:\", df.grade.unique())"
   ]
  },
  {
   "cell_type": "code",
   "execution_count": null,
   "metadata": {
    "colab": {
     "base_uri": "https://localhost:8080/"
    },
    "id": "Px1102svR4os",
    "outputId": "e01be5b8-c416-49c2-eddf-edaeb0d3a3e0"
   },
   "outputs": [],
   "source": [
    "# Mode of \"view\" column\n",
    "print(\"View mode: \", df[\"view\"].mode())\n",
    "\n",
    "# Replace all \"view\" column values greater than 1 with the mode, \"0\"\n",
    "df['view'].values[df['view'] > 1] = 0\n",
    "\n",
    "# Confirm \"view\" unique count to confirm command above worked and check for remaining outliers\n",
    "print(\"View unique count:\", df.view.unique())"
   ]
  },
  {
   "cell_type": "code",
   "execution_count": null,
   "metadata": {
    "colab": {
     "base_uri": "https://localhost:8080/"
    },
    "id": "IvxdVKmwR7Ho",
    "outputId": "13f48f40-12a3-4bac-876a-fe60a8c6c413"
   },
   "outputs": [],
   "source": [
    "# Determine the index corresponding to the max value of \"bedrooms\"\n",
    "x = df['bedrooms'].idxmax()\n",
    "\n",
    "# Display \"sqft_lot\" at max value of bedrooms\n",
    "print(\"Sqft_lot at max value of bedrooms: \", df.loc[x, 'sqft_living'])\n",
    "\n",
    "# 33 bedroom count highly unlikely given the corresponding \"sqft_living\" value; likely data entry error\n",
    "# Replace \"33\" bedroom column count by \"3\"\n",
    "# df[\"bedrooms\"].replace({\"33\": \"3\"}, inplace=True)\n",
    "df['bedrooms'] = df['bedrooms'].replace(['33'], '3')\n",
    "\n",
    "# Confirm \"bedroom\" unique count to confirm command above worked and check for remaining outliers\n",
    "print(\"Bedroom unique count:\", df.bedrooms.unique())"
   ]
  },
  {
   "cell_type": "code",
   "execution_count": null,
   "metadata": {},
   "outputs": [],
   "source": [
    "# All values in \"bedrooms\", \"bathrooms\", and \"floors\" rounded to one decial place for consistency.\n",
    "df['bedrooms'] = df['bedrooms'].round(1)\n",
    "df['bathrooms'] = df['bathrooms'].round(1)\n",
    "df['floors'] = df['floors'].round(1)"
   ]
  },
  {
   "cell_type": "code",
   "execution_count": null,
   "metadata": {},
   "outputs": [],
   "source": [
    "# Count of missing values per column\n",
    "df.isnull().sum()"
   ]
  },
  {
   "cell_type": "markdown",
   "metadata": {
    "id": "FSYdmpaptSu6"
   },
   "source": [
    "## Part 2: Data Analysis and Visualization"
   ]
  },
  {
   "cell_type": "code",
   "execution_count": null,
   "metadata": {},
   "outputs": [],
   "source": [
    "df.head()"
   ]
  },
  {
   "cell_type": "code",
   "execution_count": null,
   "metadata": {
    "colab": {
     "base_uri": "https://localhost:8080/",
     "height": 357
    },
    "id": "RN_AGFjavHRR",
    "outputId": "2f012bec-687f-4ac7-e0ba-d3f36592edd4"
   },
   "outputs": [],
   "source": [
    "# 2.1 Identify categorical, ordinal, and numerical variables within data\n",
    "\n",
    "# Categorical data: Zipcode\n",
    "# Ordinal data: condition, grade\n",
    "# Numerical data: Price, Bedrooms, Bathroom, sqft_living, sqft_lot, sqft_above, floors, yr_built, sqft_living15, sqft_lot15\n",
    "# Dates are not categorical, ordinal, nor numerical\n",
    "# Boolean: Waterfront, view, sqft_basement, yr_renovated\n",
    "\n",
    "print(\"Categorical data: Zipcode\\nOrdinal data: condition, grade\\nNumerical data: Price, Bedrooms, Bathroom, sqft_living, sqft_lot, sqft_above, floors, yr_built, sqft_living15, sqft_lot15\\nDates are not categorical, ordinal, nor numerical\\nBoolean: Waterfront, view, sqft_basement, yr_renovated\")"
   ]
  },
  {
   "cell_type": "code",
   "execution_count": null,
   "metadata": {
    "colab": {
     "base_uri": "https://localhost:8080/",
     "height": 364
    },
    "id": "Rv3ByPIESs0H",
    "outputId": "5a75fe22-3807-444c-bcf9-37b6f198f6c2"
   },
   "outputs": [],
   "source": [
    "# 2.2 Provide measures of centrality and distribution with visualizations\n",
    "\n",
    "# Key statistics of studied variables\n",
    "df.describe()"
   ]
  },
  {
   "cell_type": "code",
   "execution_count": null,
   "metadata": {
    "colab": {
     "base_uri": "https://localhost:8080/"
    },
    "id": "WDe0uNPSUy_0",
    "outputId": "511150b8-ff8e-4074-dc4a-6ef5ba9c30b9"
   },
   "outputs": [],
   "source": [
    "# 2.3 Diagnose for correlations between variables and determine independent and dependent variables\n",
    "\n",
    "#Define correlation matrix\n",
    "cor_matrix = df.corr().abs()\n",
    "\n",
    "#Only reflect upper triangle of correlation matrix\n",
    "upper_tri = cor_matrix.where(np.triu(np.ones(cor_matrix.shape),k=1).astype(np.bool))\n",
    "print(upper_tri)\n",
    "\n",
    "#Only print values in which correlation coefficient exceeds +/- 0.7 (4/10 - still wip)\n",
    "#to_drop = [column for column in upper_tri.columns if any(upper_tri[column] > 0.70)]\n",
    "#print(to_drop)"
   ]
  },
  {
   "cell_type": "code",
   "execution_count": null,
   "metadata": {
    "scrolled": true
   },
   "outputs": [],
   "source": [
    "print(df.corr())"
   ]
  },
  {
   "cell_type": "code",
   "execution_count": null,
   "metadata": {
    "colab": {
     "base_uri": "https://localhost:8080/",
     "height": 307
    },
    "id": "eQJgxLSBxBLB",
    "outputId": "ab6ecba1-fff8-4ddc-a5a2-7fa34ebb7936",
    "scrolled": false
   },
   "outputs": [],
   "source": [
    "# 2.4 Perform exploratory analysis in combination with visualization techniques to discover patterns and features of interest\n",
    "\n",
    "# Scatterplot for sqft_living (X) and price (Y)\n",
    "plt.figure()\n",
    "plt.scatter(df.sqft_living, df.price, alpha=0.7)\n",
    "\n",
    "# Label axis\n",
    "plt.xlabel('Living SqFt')\n",
    "plt.ylabel('Price')"
   ]
  },
  {
   "cell_type": "code",
   "execution_count": null,
   "metadata": {
    "scrolled": true
   },
   "outputs": [],
   "source": [
    "# Price distribution plot\n",
    "plt.figure(figsize=(10, 4))\n",
    "sns.distplot(df.price)\n",
    "\n",
    "plt.title(\"Prices of Houses\")\n",
    "plt.ylabel(\"Frequency\")\n",
    "plt.show()"
   ]
  },
  {
   "cell_type": "code",
   "execution_count": null,
   "metadata": {},
   "outputs": [],
   "source": [
    "# Box plot to observe relationship between bedrooms and price while considering view\n",
    "plt.figure(figsize = (17, 9))\n",
    "sns.boxplot(x=\"sqft_living\", y=\"price\", hue=\"view\", data=df)\n",
    "plt.title(\"Relationship between Bedrooms and Price considering View\")"
   ]
  },
  {
   "cell_type": "code",
   "execution_count": null,
   "metadata": {
    "colab": {
     "base_uri": "https://localhost:8080/",
     "height": 316
    },
    "id": "u8JYsGvmzIyr",
    "outputId": "22d2b57c-d3cc-4b49-dafe-277a7ead5392"
   },
   "outputs": [],
   "source": [
    "# Histogram of living square footage\n",
    "df.hist(column = 'sqft_living', bins = 5)"
   ]
  },
  {
   "cell_type": "code",
   "execution_count": null,
   "metadata": {
    "colab": {
     "base_uri": "https://localhost:8080/",
     "height": 265
    },
    "id": "zOnqzwCuztEX",
    "outputId": "f829d893-2f64-461c-d063-3b666c3bd490",
    "scrolled": false
   },
   "outputs": [],
   "source": [
    "# Boxplot to identify bedroom numbers distribution\n",
    "plt.boxplot(df['bedrooms'])\n",
    "plt.show()"
   ]
  },
  {
   "cell_type": "code",
   "execution_count": null,
   "metadata": {},
   "outputs": [],
   "source": [
    "# Boxplot to compare prices of houses with and without waterfront\n",
    "sns.boxplot(x=\"waterfront\", y=\"price\", data=df)\n",
    "plt.show()\n",
    "\n",
    "print(\"Houses with a waterfront tend to cost more than houses without a waterfront.\\nThere are more outliers for houses without a waterfront.\")"
   ]
  },
  {
   "cell_type": "code",
   "execution_count": null,
   "metadata": {
    "id": "gXiDJBB-Fb3B"
   },
   "outputs": [],
   "source": [
    "# Bedrooms x bathrooms x price\n",
    "from mpl_toolkits.mplot3d import Axes3D\n",
    "\n",
    "# Figure out X and Y axis using ranges from TV and Radio\n",
    "X_axis, Y_axis = np.meshgrid(np.linspace(X.bedrooms.min(), X.bedrooms.max(), 100), np.linspace(X.bathrooms.min(), X.bathrooms.max(), 100))\n",
    "\n",
    "# Plot the hyperplane by calculating corresponding Z axis (Sales)\n",
    "Z_axis = lr_model.params[0] + lr_model.params[1] * X_axis + lr_model.params[2] * Y_axis\n",
    "\n",
    "# Create matplotlib 3D axes\n",
    "fig = plt.figure(figsize=(12, 8)) # figsize refers to width and height of the figure\n",
    "ax = Axes3D(fig, azim=-100)\n",
    "\n",
    "# Plot hyperplane\n",
    "ax.plot_surface(X_axis, Y_axis, Z_axis, cmap=plt.cm.cool-warm, alpha=0.5, linewidth=0)\n",
    "\n",
    "# Plot data points\n",
    "ax.scatter(X.bedrooms, X.bathrooms, y)\n",
    "# set axis labels\n",
    "ax.set_xlabel('Bedrooms')\n",
    "ax.set_ylabel('Bathrooms')\n",
    "ax.set_zlabel('Price')"
   ]
  },
  {
   "cell_type": "markdown",
   "metadata": {
    "id": "a0H9ah7I0bto"
   },
   "source": [
    "## Part 3: Data Analytics"
   ]
  },
  {
   "cell_type": "code",
   "execution_count": null,
   "metadata": {
    "colab": {
     "base_uri": "https://localhost:8080/"
    },
    "id": "RdHZRijJ0ciG",
    "outputId": "984d4075-8f33-449f-d4a1-97a8df8eda74",
    "scrolled": true
   },
   "outputs": [],
   "source": [
    "# 3.1 Determine the need for a supervised or unsupervised learning method and identify dependent and independent variables\n",
    "\n",
    "# Supervised learning: Predict price based on amount of bedrooms from bathrooms\n",
    "\n",
    "# 3.2 Train, test, and provide accuracy and evaluation metrics for model results\n",
    "# Import library\n",
    "import statsmodels.api as sm\n",
    "\n",
    "Y = df.price # Dependent variable\n",
    "X = df.bedrooms # Independent variable\n",
    "X = sm.add_constant(X) # Add constant term to predictor\n",
    "\n",
    "# Establish linear regression model results\n",
    "linreg_model = sm.OLS(Y,X).fit()\n",
    "print(linreg_model.summary())\n",
    "\n",
    "X_prime = np.linspace(df.bedrooms.min(), df.bedrooms.max(),100)\n",
    "X_prime = sm.add_constant(X_prime)"
   ]
  },
  {
   "cell_type": "code",
   "execution_count": null,
   "metadata": {
    "colab": {
     "base_uri": "https://localhost:8080/",
     "height": 307
    },
    "id": "VF6JT1jOPGls",
    "outputId": "063a0c02-30f4-43d5-bc81-ef59e43d5225"
   },
   "outputs": [],
   "source": [
    "import seaborn as sns\n",
    "# Calculate predicted value\n",
    "Y_hat = linreg_model.predict(X_prime)\n",
    "\n",
    "# Scatterplot to observe relationship between bedrooms and price while considering bathrooms\n",
    "sns.scatterplot(x = df.bedrooms, y = df.price, hue = df.bathrooms)\n",
    "#plt.legend(bbox_to_anchor=(1.02, 1), loc='upper left', borderaxespad=0) #Shift Airline key to upper left\n",
    "\n",
    "# Create labels for x and y axis\n",
    "plt.xlabel(\"Bedrooms\")\n",
    "plt.ylabel(\"Price\")\n",
    "\n",
    "# Plot linear regression line\n",
    "plt.plot(X_prime[:,1],Y_hat, 'red', alpha = 0.9)"
   ]
  },
  {
   "cell_type": "code",
   "execution_count": null,
   "metadata": {},
   "outputs": [],
   "source": [
    "print(\"Correlation coefficient = \", np.corrcoef(df.bedrooms,df.price)[0,1])\n",
    "print(\"\\nThe regression model that uses 'bedrooms' to predict 'price' has a weak positive correlation.\\nWe can predict that the more bedrooms there are, the higher the price of the house will be.\\n\")"
   ]
  },
  {
   "cell_type": "code",
   "execution_count": null,
   "metadata": {},
   "outputs": [],
   "source": [
    "# Use both independent variables (Bedrooms and Bathrooms) to predict Sqft living\n",
    "y = df['price'] # Dependent variable\n",
    "X = df[['bedrooms', 'bathrooms']] # Independent variable\n",
    "X = sm.add_constant(X)\n",
    "\n",
    "lr_model = sm.OLS(y,X).fit()\n",
    "\n",
    "print(lr_model.summary())\n",
    "print(lr_model.params)"
   ]
  },
  {
   "cell_type": "code",
   "execution_count": null,
   "metadata": {},
   "outputs": [],
   "source": []
  }
 ],
 "metadata": {
  "colab": {
   "include_colab_link": true,
   "name": "data_analytics_12april.ipynb",
   "provenance": []
  },
  "kernelspec": {
   "display_name": "Python 3 (ipykernel)",
   "language": "python",
   "name": "python3"
  },
  "language_info": {
   "codemirror_mode": {
    "name": "ipython",
    "version": 3
   },
   "file_extension": ".py",
   "mimetype": "text/x-python",
   "name": "python",
   "nbconvert_exporter": "python",
   "pygments_lexer": "ipython3",
   "version": "3.9.7"
  }
 },
 "nbformat": 4,
 "nbformat_minor": 1
}
